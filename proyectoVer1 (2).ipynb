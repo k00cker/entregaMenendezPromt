{
 "cells": [
  {
   "cell_type": "markdown",
   "id": "dc19b22a-5611-4fff-8f66-fa746550f820",
   "metadata": {},
   "source": [
    "Game Master IA: Fast Prompting POC\n",
    "Instalación y Configuración"
   ]
  },
  {
   "cell_type": "code",
   "execution_count": 8,
   "id": "38c858ca-0d29-47cb-9416-9c28c12c9263",
   "metadata": {},
   "outputs": [],
   "source": [
    "import openai\n",
    "import requests\n",
    "import os\n",
    "from io import BytesIO\n",
    "from PIL import Image"
   ]
  },
  {
   "cell_type": "markdown",
   "id": "4bb755c6-3eea-4cab-820e-33f134010583",
   "metadata": {},
   "source": [
    "Clave de API"
   ]
  },
  {
   "cell_type": "code",
   "execution_count": 9,
   "id": "d6bd9d73-5f32-46ab-be02-b6213f446563",
   "metadata": {},
   "outputs": [],
   "source": [
    "#Add our API Key copied from openAI page\n",
    "openai.api_key =  #Example -> dw-bQyr9128F49VJRNKAnST32lbkFJ2Zv4qEhWo4R0Xh6yrh15"
   ]
  },
  {
   "cell_type": "markdown",
   "id": "fb499045-819d-4ed1-8199-4ead1efe4fb5",
   "metadata": {},
   "source": [
    "Función para generar respuestas con OpenAI"
   ]
  },
  {
   "cell_type": "code",
   "execution_count": 10,
   "id": "5401394b-40ee-4c87-87d1-a43e9b96d665",
   "metadata": {},
   "outputs": [],
   "source": [
    "def generar_respuesta(prompt, modelo=\"gpt-4\", temperatura=0.7):\n",
    "    \"\"\"Genera una respuesta con OpenAI utilizando Fast Prompting.\"\"\"\n",
    "    try:\n",
    "        respuesta = openai.ChatCompletion.create(\n",
    "            model=modelo,\n",
    "            messages=[{\"role\": \"system\", \"content\": \"Eres un Game Master experto en RPGs. Responde con descripciones detalladas pero breves, de no más de 600 caracteres.\"},\n",
    "                      {\"role\": \"user\", \"content\": prompt}],\n",
    "            max_tokens=500,\n",
    "            temperature=temperatura\n",
    "        )\n",
    "        return respuesta[\"choices\"][0][\"message\"][\"content\"]\n",
    "    except Exception as e:\n",
    "        return f\"Error en la generación de respuesta: {str(e)}\""
   ]
  },
  {
   "cell_type": "markdown",
   "id": "96e5a4db-cdf0-4bdc-b8c9-f1c310371b42",
   "metadata": {},
   "source": [
    "Función para generar imágenes con DALL·E"
   ]
  },
  {
   "cell_type": "code",
   "execution_count": 11,
   "id": "3a823bff-0b29-42f6-83a0-5233ba761584",
   "metadata": {},
   "outputs": [],
   "source": [
    "def generar_imagen(descripcion):\n",
    "    \"\"\"Genera una imagen basada en la descripción proporcionada.\"\"\"\n",
    "    try:\n",
    "        respuesta = openai.Image.create(\n",
    "            prompt=descripcion,\n",
    "            n=1,\n",
    "            size=\"1024x1024\"\n",
    "        )\n",
    "        return respuesta[\"data\"][0][\"url\"]\n",
    "    except Exception as e:\n",
    "        return f\"Error en la generación de imagen: {str(e)}\""
   ]
  },
  {
   "cell_type": "markdown",
   "id": "376e883e-2ee4-456a-9e75-9b8245fde08f",
   "metadata": {},
   "source": [
    "Experimentos con Fast Prompting"
   ]
  },
  {
   "cell_type": "code",
   "execution_count": 12,
   "id": "ba5997f5-221e-4136-ac5e-03e90ea52ab5",
   "metadata": {},
   "outputs": [
    {
     "name": "stdin",
     "output_type": "stream",
     "text": [
      "Describe un escenario para la aventura:  aventura pirata isla del tesoro. tiburones al rededor\n"
     ]
    },
    {
     "name": "stdout",
     "output_type": "stream",
     "text": [
      "\n",
      "Few-Shot Prompting Result:\n",
      "La Isla de Oroplata emerge del mar como un pedazo de paraíso perdido, sus playas de arena blanca y palmeras ocultan un tesoro enterrado. La misteriosa isla está rodeada por aguas turquesas, en las que los tiburones grises son centinelas naturales, sus sombras amenazantes acechan bajo la superficie, listos para defender el tesoro del codicioso intruso.\n"
     ]
    }
   ],
   "source": [
    "## Few-Shot Prompting\n",
    "descripcion_usuario = input(\"Describe un escenario para la aventura: \") \n",
    "\n",
    "few_shot_prompt = f\"\"\"\n",
    "# Ejemplos:\n",
    "# Usuario: Describe un pueblo medieval en ruinas donde los aventureros buscan un tesoro.\n",
    "# IA: El pueblo de Eldoria yace en sombras, sus calles cubiertas de escombros. Una taberna derruida aún mantiene un viejo letrero colgante...\n",
    "\n",
    "# Usuario: Describe una fortaleza en lo alto de una montaña custodiada por dragones.\n",
    "# IA: La Fortaleza de Himmelsgard se alza sobre los riscos nevados, sus torres perforando las nubes mientras dragones guardianes la sobrevuelan...\n",
    "{descripcion_usuario}\n",
    "\"\"\"\n",
    "\n",
    "respuesta_texto = generar_respuesta(few_shot_prompt)\n",
    "print(\"\\nFew-Shot Prompting Result:\")\n",
    "print(respuesta_texto)"
   ]
  },
  {
   "cell_type": "markdown",
   "id": "8821b797-f3cf-4741-bcf4-12d36b179849",
   "metadata": {},
   "source": [
    "Generar imagen basada en la respuesta de la IA"
   ]
  },
  {
   "cell_type": "code",
   "execution_count": 13,
   "id": "30ac468d-edb7-4407-8599-0fcf15c9239e",
   "metadata": {},
   "outputs": [
    {
     "name": "stdout",
     "output_type": "stream",
     "text": [
      "Imagen generada: https://oaidalleapiprodscus.blob.core.windows.net/private/org-bGT0YSyCR5Dg8zEbd14OdqIA/user-ooEmLhvRrLU2ZqUvNv3puQk7/img-CprWqSV3ZvpmC0kx6yYrx40Z.png?st=2025-02-21T23%3A06%3A28Z&se=2025-02-22T01%3A06%3A28Z&sp=r&sv=2024-08-04&sr=b&rscd=inline&rsct=image/png&skoid=d505667d-d6c1-4a0a-bac7-5c84a87759f8&sktid=a48cca56-e6da-484e-a814-9c849652bcb3&skt=2025-02-21T19%3A46%3A14Z&ske=2025-02-22T19%3A46%3A14Z&sks=b&skv=2024-08-04&sig=lb4Kejb/dtTr/Gue8hIwGxbsy6pnT7%2Bj%2BdmxeWKjNAk%3D\n"
     ]
    }
   ],
   "source": [
    "imagen_url = generar_imagen(respuesta_texto)\n",
    "print(\"Imagen generada:\", imagen_url)"
   ]
  },
  {
   "cell_type": "code",
   "execution_count": null,
   "id": "b4a1a824-17f7-40f6-8aec-be37d564d91b",
   "metadata": {},
   "outputs": [],
   "source": [
    "## Chain-of-Thought Prompting\n",
    "descripcion_enemigo = input(\"Describe el enemigo que quieres generar: \")\n",
    "\n",
    "chain_of_thought_prompt = f\"\"\"\n",
    "Describe un enemigo de RPG paso a paso:\n",
    "1. Define su raza y nombre.\n",
    "2. Explica sus habilidades mágicas.\n",
    "3. Indica su debilidad principal.\n",
    "4. Crea un diálogo que diría al enfrentar a los aventureros.\n",
    "\n",
    "{descripcion_enemigo}\n",
    "\"\"\"\n",
    "\n",
    "print(\"\\nChain-of-Thought Prompting Result:\")\n",
    "print(generar_respuesta(chain_of_thought_prompt))"
   ]
  },
  {
   "cell_type": "code",
   "execution_count": null,
   "id": "f6674d90-ce5c-4f18-a8ee-308eb0ac2a31",
   "metadata": {},
   "outputs": [],
   "source": [
    "## Persona-Based Prompting\n",
    "estilo_narrativo = input(\"Describe el estilo narrativo para la historia: \")\n",
    "\n",
    "persona_prompt = f\"\"\"\n",
    "Eres un Game Master especializado en {Estilo_Narrativo}. Describe un escenario donde los jugadores quedan atrapados por una maldición oscura.\n",
    "Ejemplos estilos: Fantasía Épica // Fantasía Oscura-Grimdark // Terror Gótico // Cyberpunk-Futurista // Post-Apocalíptico // Ciencia Ficción-Espacial\n",
    "Mitológico // Western Fantástico // Comedia-Satírico\n",
    "\"\"\"\n",
    "\n",
    "print(\"\\nPersona-Based Prompting Result:\")\n",
    "print(generar_respuesta(persona_prompt))"
   ]
  },
  {
   "cell_type": "code",
   "execution_count": null,
   "id": "6a4774d9-be7e-491c-a2f9-a3e6b157ae71",
   "metadata": {},
   "outputs": [],
   "source": []
  }
 ],
 "metadata": {
  "kernelspec": {
   "display_name": "Python 3 (ipykernel)",
   "language": "python",
   "name": "python3"
  },
  "language_info": {
   "codemirror_mode": {
    "name": "ipython",
    "version": 3
   },
   "file_extension": ".py",
   "mimetype": "text/x-python",
   "name": "python",
   "nbconvert_exporter": "python",
   "pygments_lexer": "ipython3",
   "version": "3.10.16"
  }
 },
 "nbformat": 4,
 "nbformat_minor": 5
}
